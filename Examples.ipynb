{
 "cells": [
  {
   "cell_type": "markdown",
   "id": "eb7c93b6",
   "metadata": {},
   "source": [
    "# Computations of central derivatives of L-series\n",
    "\n",
    "This notebook contains basic implementations of algorithms from the paper \"Derivatives of L-series of Weakly Holomorphic Cusp Forms\" by N. Diamantis and F. Strömberg. \n",
    "\n",
    "In particular we present an implementation of the formula \n",
    "\n",
    "$$\\Lambda^{(m)}(f,k/2)=i^{2m-k/2}N^{k/4}\\sum_{j=0}^{m}{m \\choose j}\\log^{j}\\left(\\frac{i}{\\sqrt{N}}\\right)\\int_{i/\\sqrt{N}}^{i/\\sqrt{N}+1}f(z)\\zeta^{(m-j)}\\left(1-\\frac{k}{2},z\\right)dz\\tag{*}$$\n",
    "\n",
    "for computing the central value of the L-series $\\Lambda^{(m)}(f,s)$ attached to a weakly holomorphic cusp form $f$. It should be noted that in case $f$ is holomorphic then the standard completed $L$-function of $f$ is  $L^{*}_{f}(s)=\\Lambda^{(m)}(f,s)$."
   ]
  },
  {
   "cell_type": "code",
   "execution_count": null,
   "id": "a8564362",
   "metadata": {},
   "outputs": [],
   "source": [
    "# A collection of basic functions that are needed \n",
    "import mpmath\n",
    "from sage.modular.modform.element import Newform\n",
    "from sage.rings.laurent_series_ring_element import LaurentSeries\n",
    "from sage.rings.power_series_poly import PowerSeries_poly\n",
    "\n",
    "def complex_coefficients(f, prec=30, bprec=53):\n",
    "    \"\"\"\n",
    "    Get complex approximations of the Fourier series coefficients of f\n",
    "\n",
    "    INPUT: \n",
    "    \n",
    "    - `f` -- Newform or Laurentseries. In case of a Laurent series the input must have sufficiently many coefficients. \n",
    "    - `prec` -- integer - the number of coefficients to use.\n",
    "    - `bprec` -- the number of bits of precision to use. \n",
    "    \n",
    "    \"\"\"\n",
    "    CF = ComplexField(bprec)\n",
    "    prec = ZZ(prec)    \n",
    "    if isinstance(f,(LaurentSeries,PowerSeries_poly)):\n",
    "        if f.prec() < prec:\n",
    "            raise ValueError(\"Need to give input to higher precision!\")\n",
    "        coeffs = [c.complex_embedding(bprec) if hasattr(c,'complex_embedding') else CF(c) for c in f.coefficients()]\n",
    "        exps = f.exponents()\n",
    "    else:\n",
    "        f.q_expansion(prec) \n",
    "        coeffs = [c.complex_embedding(bprec) if hasattr(c,'complex_embedding') else CF(c) for c in f.coefficients(prec)]\n",
    "        if f.is_cuspidal():\n",
    "            exps = range(1,prec+1)\n",
    "    return dict(zip(exps,coeffs))\n",
    "\n",
    "\n",
    "def findM_holoform(f,D, N=None, k=None):\n",
    "    \"\"\"\n",
    "    Find a truncation precision M such that the holomorphic newform  f(x+iy) is approximated to 10^{-D} for 0<=x<=1.\n",
    "\n",
    "    INPUT:\n",
    "    \n",
    "    - `f` -- Newform / q-expansion of cusp form\n",
    "    - `D` -- integer\n",
    "    \n",
    "    \"\"\"\n",
    "    if isinstance(f,Newform):\n",
    "        N = RR(f.level())\n",
    "        k = RR(f.weight())\n",
    "    elif not N or not k:\n",
    "        raise ValueError(\"Need to give N or k.\")\n",
    "    sqrtN = N.sqrt()\n",
    "    twopib = 2*RR.pi()/sqrtN\n",
    "    Cbk = 4*RR(1).exp()*RR(k/2+1).gamma()*sqrtN/(2*RR.pi())\n",
    "    RHS = (D*RR(10).log() + Cbk.log())/twopib\n",
    "    f = k/2/twopib\n",
    "    M0 = ceil(RHS)\n",
    "    step = M0.log()*f\n",
    "    for M in range(M0,2*M0):\n",
    "        if M - RR(M).log()*f > M0:\n",
    "            return M\n",
    "    raise ArithmeticError(\"Could not find suitable M\")\n",
    "    \n",
    "    \n",
    "def findM_weakform(f,D,N,k):\n",
    "    \"\"\"\n",
    "    Find a truncation precision M such that weakly modular cusp form  f(x+iy) is approximated to 10^{-D} for 0<=x<=1.\n",
    "    Important note:  This is a heuristic formula only. \n",
    "\n",
    "    INPUT:\n",
    "    \n",
    "    - `f` -- Laurent expansion\n",
    "    - `D` -- integer\n",
    "    \n",
    "    \"\"\"\n",
    "    N = RR(N)\n",
    "    k = RR(k)\n",
    "    sqrtN = N.sqrt()\n",
    "    RHS = sqrtN*(D + N.log()) # Just assume all constants are 1(!)\n",
    "    M0 = max(N,ceil(RHS))\n",
    "    step = M0.sqrt()*N.sqrt()\n",
    "    coeffs = complex_coefficients(f,prec=2*M0,bprec=53)\n",
    "    eps = 2**(8-53)\n",
    "    for M in range(M0,2*M0):\n",
    "        if M - RR(M).sqrt()*N.sqrt() < M0:\n",
    "            continue\n",
    "        # Else check the difference of truncating here and a further point\n",
    "        twopiix = 2*RR.pi()*CC(0,1)*0.3\n",
    "        twopiy = 2*RR.pi()/sqrtN\n",
    "        f1 = sum([c*CF(twopiix*n-twopiy*n).exp() for n,c in coeffs.items() if n < M])\n",
    "        f2 = sum([c*CF(twopiix*n-twopiy*n).exp() for n,c in coeffs.items() if n < max(M+5,2*M0)])\n",
    "        if abs(f1-f2) < eps:\n",
    "            return M\n",
    "    raise ArithmeticError(\"Could not find suitable M\")\n",
    "    \n",
    "def get_parameters(f, k, N, prec=None, bprec=None, mpctx=None, is_holomorphic_cuspform=False):\n",
    "    RF = RealField(bprec)\n",
    "    D = ceil(bprec*RR(2).log()/RR(10).log())\n",
    "    if prec:\n",
    "        return D, prec\n",
    "    if is_holomorphic_cuspform:        \n",
    "        if prec is None:\n",
    "            M = findM_holoform(f,D,k=k,N=N)\n",
    "            prec = M + 1        \n",
    "    else:\n",
    "        if k is None or N is None:\n",
    "            raise ValueError(\"Need to give k and N for weakly holomorphic modular forms.\")\n",
    "        factor = RF(1)\n",
    "        if prec is None:\n",
    "            M = findM_weakform(f,D,N,k)\n",
    "            prec = M + 1\n",
    "    return D, prec\n",
    "    \n",
    "def l_series_derivative_formula(f,m,k=None,N=None,prec=None,bprec=53,maxdegree=None,is_holomorphic_cuspform=False):\n",
    "    \"\"\"\n",
    "    Use the formula (*) to compute the m-th derivative of the L-series Lambda(f,s) at s=k/2\n",
    "    \n",
    "    INPUT:\n",
    "    \n",
    "    - `f` -- function\n",
    "    \n",
    "    \"\"\"\n",
    "    RF = RealField(bprec)\n",
    "    CF = ComplexField(bprec)\n",
    "    if bprec == 53:\n",
    "        mpctx = mpmath.fp\n",
    "        mpmath.fp.prec=53\n",
    "    else:\n",
    "        mpctx = mpmath.mp\n",
    "    mpmath.mp.prec=bprec\n",
    "    if isinstance(f, Newform):\n",
    "        is_holomorphic_cuspform = True\n",
    "        k = f.weight()\n",
    "        N = f.level()\n",
    "    elif k is None or N is None:\n",
    "            raise ValueError(\"Need to give k and N unless input is Newform\")        \n",
    "    \n",
    "    D,prec = get_parameters(f,k,N,prec,bprec,mpctx, is_holomorphic_cuspform)\n",
    "    if is_holomorphic_cuspform:\n",
    "        factor = 1+CF(0,1)**(k - 2*m)\n",
    "        if factor == 0:\n",
    "            return mpctx.mpc(0,0)\n",
    "    else:\n",
    "        factor = 1\n",
    "    if not maxdegree:\n",
    "        if N < 1000:\n",
    "            maxdegree = 7\n",
    "        else:\n",
    "            maxdegree = 10\n",
    "    k_half = RF(k)/RF(2)\n",
    "    coeffs = complex_coefficients(f,prec,bprec)\n",
    "    sqrtN = RF(N).sqrt()\n",
    "    ib = CF(0,1)/sqrtN\n",
    "    b = sqrtN**-1    \n",
    "    logib = ib.log()\n",
    "    s= RF(1) - RF(k) / RF(2)\n",
    "    twopi = RF.pi()*RF(2)\n",
    "    twopii = CF(0,1)*twopi\n",
    "    twopib = twopi*b\n",
    "    coeffs_indexes = list(coeffs.keys())\n",
    "    # pre-compute the y-parts\n",
    "    vec = {n: coeffs[n]*RF(-twopib*n).exp() for n in coeffs_indexes}\n",
    "    coeffs_indexes.sort(reverse=True)\n",
    "    @cached_function\n",
    "    def F(x):\n",
    "        if x > 1/2:\n",
    "            return F(1-x).conjugate()\n",
    "        fval = 0\n",
    "        twopiix = twopii*RF(x)\n",
    "        for n in coeffs_indexes:\n",
    "            fval += CF(twopiix*n).exp()*vec[n]\n",
    "        return mpctx.mpc(fval.real(),fval.imag())\n",
    "    @cached_function\n",
    "    def hurwitz(x,r):\n",
    "        z = mpctx.mpc(x,b)\n",
    "        return mpctx.hurwitz(s,z,derivative=r)\n",
    "    # Use the special formula for weight 2 and first derivative\n",
    "    if k == 2 and m == 1:\n",
    "        intfak = mpctx.log(sqrtN)-mpctx.mpc(0,1)*mpctx.pi/mpctx.mpf(2)\n",
    "        @cached_function\n",
    "        def wt2integrand(x):\n",
    "            z = mpctx.mpc(x,b)\n",
    "            return mpctx.log(mpctx.gamma(z)) + z*intfak\n",
    "        def integrand(x): \n",
    "            f = F(x)\n",
    "            z = wt2integrand(x)\n",
    "            return f*z\n",
    "        val,er = mpmath.mp.quad(integrand,[0,1],method='gauss-legendre', error=True,maxdegree=maxdegree,verbose=0)\n",
    "        #print(val,er)\n",
    "        return val*sqrtN*CF(0,1)*factor\n",
    "    summa = 0\n",
    "    for j in range(m+1):    \n",
    "        def integrand(x): \n",
    "            f = F(x)\n",
    "            z = hurwitz(x,m-j)\n",
    "            return f*z\n",
    "        val,er = mpmath.mp.quad(integrand,[0,1],method='gauss-legendre',error=True,maxdegree=maxdegree,verbose=0)\n",
    "        #         print(val,er)\n",
    "        term = CF(binomial(m,j))*val*logib**j\n",
    "        summa += term\n",
    "    f1 = CF(0,1)**(2*m - k_half)*RF(N)**(RF(k)/RF(4))\n",
    "    return summa*f1*factor\n",
    "\n"
   ]
  },
  {
   "cell_type": "markdown",
   "id": "f2e2641b",
   "metadata": {},
   "source": [
    "## Examples for Holomorphic newforms"
   ]
  },
  {
   "cell_type": "markdown",
   "id": "e6d76ac6",
   "metadata": {},
   "source": [
    "## Level 37 weight 2"
   ]
  },
  {
   "cell_type": "code",
   "execution_count": null,
   "id": "4cf08e44",
   "metadata": {},
   "outputs": [],
   "source": [
    "f1 =  Newforms(37,2,names='a')[0]\n",
    "L1 = f1.lseries()\n",
    "L1.derivative(1,1)*(RR(f1.level()).sqrt()/RR.pi()/2)**1"
   ]
  },
  {
   "cell_type": "code",
   "execution_count": null,
   "id": "751b2978",
   "metadata": {},
   "outputs": [],
   "source": [
    "l_series_derivative_formula(f1,1)"
   ]
  },
  {
   "cell_type": "code",
   "execution_count": null,
   "id": "11401130",
   "metadata": {},
   "outputs": [],
   "source": [
    "%timeit L1.derivative(1,1)"
   ]
  },
  {
   "cell_type": "code",
   "execution_count": null,
   "id": "493961f9",
   "metadata": {},
   "outputs": [],
   "source": [
    "%timeit l_series_derivative_formula(f1,1)"
   ]
  },
  {
   "cell_type": "markdown",
   "id": "c6321410",
   "metadata": {},
   "source": [
    "## Level 127 weight 4"
   ]
  },
  {
   "cell_type": "code",
   "execution_count": null,
   "id": "d4662ecc",
   "metadata": {},
   "outputs": [],
   "source": [
    "f2 =  Newforms(127,4,names='a')[0]\n",
    "L2 = f2.lseries()\n",
    "print(f\"L_f^*(2)={L2(2)}\")\n",
    "print(f\"L_f^*'(2)={L2.derivative(2,1)*(RR(f2.level()).sqrt()/RR.pi()/2)**2}\")\n",
    "print(f\"L_f^*''(2)={L2.derivative(2,2)*(RR(f2.level()).sqrt()/RR.pi()/2)**2}\")"
   ]
  },
  {
   "cell_type": "code",
   "execution_count": null,
   "id": "e38ed4c5",
   "metadata": {},
   "outputs": [],
   "source": [
    "l_series_derivative_formula(f2,0)"
   ]
  },
  {
   "cell_type": "code",
   "execution_count": null,
   "id": "0d7d26a6",
   "metadata": {},
   "outputs": [],
   "source": [
    "l_series_derivative_formula(f2,1) # zero by symmetry"
   ]
  },
  {
   "cell_type": "code",
   "execution_count": null,
   "id": "9c17b601",
   "metadata": {},
   "outputs": [],
   "source": [
    "l_series_derivative_formula(f2,2,bprec=60)"
   ]
  },
  {
   "cell_type": "code",
   "execution_count": null,
   "id": "a6e24f46",
   "metadata": {},
   "outputs": [],
   "source": [
    "%timeit L2.derivative(2,2)"
   ]
  },
  {
   "cell_type": "code",
   "execution_count": null,
   "id": "7cb87c11",
   "metadata": {},
   "outputs": [],
   "source": [
    "%timeit l_series_derivative_formula(f2,2,bprec=60)"
   ]
  },
  {
   "cell_type": "markdown",
   "id": "2a5b6bfc",
   "metadata": {},
   "source": [
    "## Level 5077 weight 2"
   ]
  },
  {
   "cell_type": "code",
   "execution_count": null,
   "id": "e58cb9e8",
   "metadata": {},
   "outputs": [],
   "source": [
    "# Warning - this takes a long time\n",
    "f3 = Newforms(5077,2,names='a')[0]\n",
    "L3 = f3.lseries()"
   ]
  },
  {
   "cell_type": "code",
   "execution_count": null,
   "id": "d58cc955",
   "metadata": {},
   "outputs": [],
   "source": [
    "print(f\"L_f^*(1)={L3(1)}\")\n",
    "print(f\"L_f^*'(1)={L3.derivative(1,1)*(RR(f3.level()).sqrt()/RR.pi()/2)**1}\")\n",
    "print(f\"L_f^*''(1)={L3.derivative(1,2)*(RR(f3.level()).sqrt()/RR.pi()/2)**1}\")\n",
    "print(f\"L_f^*'''(1)={L3.derivative(1,3)*(RR(f3.level()).sqrt()/RR.pi()/2)**1}\")"
   ]
  },
  {
   "cell_type": "code",
   "execution_count": null,
   "id": "e978b39c",
   "metadata": {},
   "outputs": [],
   "source": [
    "%timeit L3.derivative(1,3)"
   ]
  },
  {
   "cell_type": "code",
   "execution_count": null,
   "id": "4c91a927",
   "metadata": {},
   "outputs": [],
   "source": [
    "l_series_derivative_formula(f3,0,bprec=53)"
   ]
  },
  {
   "cell_type": "code",
   "execution_count": null,
   "id": "2f83f58b",
   "metadata": {},
   "outputs": [],
   "source": [
    "l_series_derivative_formula(f3,1,bprec=53)"
   ]
  },
  {
   "cell_type": "code",
   "execution_count": null,
   "id": "d4f31f60",
   "metadata": {},
   "outputs": [],
   "source": [
    "l_series_derivative_formula(f3,2,bprec=53)"
   ]
  },
  {
   "cell_type": "code",
   "execution_count": null,
   "id": "d1992acd",
   "metadata": {},
   "outputs": [],
   "source": [
    "l_series_derivative_formula(f3,3,bprec=60,prec=250)"
   ]
  },
  {
   "cell_type": "code",
   "execution_count": null,
   "id": "1c17d01f",
   "metadata": {
    "scrolled": true
   },
   "outputs": [],
   "source": [
    "%timeit l_series_derivative_formula(f3,3,bprec=60,prec=250)"
   ]
  },
  {
   "cell_type": "code",
   "execution_count": null,
   "id": "ab4ac30b",
   "metadata": {},
   "outputs": [],
   "source": [
    "15000/212."
   ]
  },
  {
   "cell_type": "code",
   "execution_count": null,
   "id": "0e416245",
   "metadata": {},
   "outputs": [],
   "source": [
    "117.837959237940 - _"
   ]
  },
  {
   "cell_type": "code",
   "execution_count": null,
   "id": "4a90ac81",
   "metadata": {},
   "outputs": [],
   "source": [
    "%timeit l_series_derivative_formula(f3,3,bprec=53,prec=650)"
   ]
  },
  {
   "cell_type": "code",
   "execution_count": null,
   "id": "bb440c7e",
   "metadata": {},
   "outputs": [],
   "source": [
    "l=complex_coefficients(f3,1000,bprec=53)"
   ]
  },
  {
   "cell_type": "markdown",
   "id": "f7547ebc",
   "metadata": {},
   "source": [
    "## Examples for weak cusp forms\n",
    "\n",
    "To construct weakly modular cusp forms we use eta functions as building blocks.\n",
    "Recall that \n",
    "$$\n",
    "\\eta(\\tau) = q^{\\frac{1}{24}} \\prod_{n\\ge 1} \\left( 1- q^n \\right).\n",
    "$$\n",
    "If we define  \n",
    "$$\n",
    "\\Delta^{+}_2 (\\tau) = (\\eta(\\tau)\\eta(2\\tau))^8 = q - 8q^2 + 12q^3 + 64q^4 +O(q^5)$$ \n",
    "and \n",
    "$$j^{+}_{2}(\\tau) = (\\eta(\\tau)/\\eta(2\\tau))^{24} + 24 + 2^{12}(\\eta(2\\tau)/\\eta(\\tau))^{24} = q^{-1} + 4372q + 96256q^2 + 1240002q^3 + O(q^4)$$\n",
    "then it can be shown that $\\Delta^{+}_2\\in S_8(\\Gamma_0(2))$ and $j^{+}_2\\in S_0^{!}(\\Gamma_0(2))$ are\n",
    "both invariant under the Atkin-Lehner involution $W_2$. \n",
    "\n",
    "The following weakly holomorphic modular forms of weight $16$ on $\\Gamma_0(2)$ were defined by  Choi and Kim [Weakly holomorphic Hecke eigenforms and Hecke eigenpolynomials, Advances in Mathematics 290 (2016)] \n",
    "\n",
    "- $f_{16,-2}(\\tau) = \\Delta^{+}_2(\\tau)^2 = q^2 −16q^3 + O(q^4)$\n",
    "- $f_{16,-1}(\\tau) = \\Delta^{+}_2(\\tau)^2 (j_2^{+}(\\tau) + 16) = q+4204q^3 +O(q^4)$\n",
    "- $f_{16,0}(\\tau) = \\Delta^{+}_2(\\tau)^2 (j_2^{+}(\\tau)^2 + 16 j_2^{+}(\\tau) - 8576)=1+261120q^3+O(q^4)$\n",
    "- $f_{16,1}(\\tau) = \\Delta^{+}_2(\\tau)^2 (j_2^{+}(\\tau)^3 + 16 j_2^{+}(\\tau)^2 - 12948j_2^{+}(\\tau) - 427328)\n",
    " = q^{-1} +  7525650q^3 +O(q^4)$\n",
    "- $f_{16,2}(\\tau) = \\Delta^{+}_2(\\tau)^2 (j_2^{+}(\\tau)^4 + 16 j_2^{+}(\\tau)^3 - 17320 j_2^{+}(\\tau)^2 - 593536j_2^{+}(\\tau) - 27188524) = q^{-2} + 140479808q^3+O(q^4)$\n",
    "\n",
    "and we see that $f_{16,-2},f_{16,-1}\\in S_{16}^{+}(\\Gamma_0(2))$ and $f_{16,1},f_{16,2}\\in S_{16}^{!}(\\Gamma_0(2))$ while $f_{16,0}$ is not cuspidal."
   ]
  },
  {
   "cell_type": "code",
   "execution_count": null,
   "id": "9bd93f59",
   "metadata": {},
   "outputs": [],
   "source": [
    "\n",
    "from sage.modular.etaproducts import qexp_eta\n",
    "def eta_quotient_q_expansion(exponents=[],arguments=[],prec=20):\n",
    "    r\"\"\"\n",
    "    Give the q-expansion of an eta quotient with given exponents and arguments.\n",
    "    \"\"\"\n",
    "    eta = qexp_eta(ZZ[['q']],prec)\n",
    "    R = eta.parent()\n",
    "    q = R.gens()[0]\n",
    "    res = R(1)\n",
    "    prefak = 0\n",
    "    for i in range(len(arguments)):        \n",
    "        res = res*eta.subs({q:q**arguments[i]})**exponents[i]\n",
    "        prefak = prefak+arguments[i]*exponents[i]\n",
    "    return res,prefak/24"
   ]
  },
  {
   "cell_type": "code",
   "execution_count": null,
   "id": "465bae88",
   "metadata": {},
   "outputs": [],
   "source": [
    "prec = 200\n",
    "quotient,prefak = eta_quotient_q_expansion(arguments=[1,2],exponents=[8,8],prec=prec)\n",
    "q = quotient.parent().gen()\n",
    "Delta2 = quotient*q**prefak\n",
    "quo1,prefak1 = eta_quotient_q_expansion(arguments=[1,2],exponents=[24,-24],prec=prec)\n",
    "quo2,prefak2 = eta_quotient_q_expansion(arguments=[1,2],exponents=[-24,24],prec=prec)\n",
    "j2 = quo1*q**prefak1 + 24 + 2**12*quo2*q**prefak2"
   ]
  },
  {
   "cell_type": "code",
   "execution_count": null,
   "id": "4daa5b74",
   "metadata": {},
   "outputs": [],
   "source": [
    "f16 = {}\n",
    "f16[-2] = Delta2**2\n",
    "f16[-1] = Delta2**2*(j2+16)\n",
    "f16[0] = Delta2**2*(j2**2+16*j2-8576)\n",
    "f16[1] = Delta2**2*(j2**3+16*j2**2 - 12948*j2 - 427328)\n",
    "f16[2] = Delta2**2*(j2**4+16*j2**3-17320*j2**2 - 593536*j2 +27188524)\n",
    "k = 16\n",
    "N = 2"
   ]
  },
  {
   "cell_type": "markdown",
   "id": "69009084",
   "metadata": {},
   "source": [
    "Let's first check the formulas in the holomorphic cases $f_{16,-2}$ and $f_{16,-1}$.\n",
    "\n",
    "Note first that the unique newform of level 2 and weight 16 is \n",
    "$$f = q - 128q^2 + 6252q^3 + 16384q^4 + 90510q^5 + O(q^6) = f_{16,-1} - 128f_{16,-2}$$\n"
   ]
  },
  {
   "cell_type": "code",
   "execution_count": null,
   "id": "453c1681",
   "metadata": {},
   "outputs": [],
   "source": [
    "f4=Newforms(2,16,names='a')[0]\n",
    "L4=f4.lseries()\n",
    "D = sqrt(2.)/(2*RR.pi())\n",
    "print(\"L^*_f4=\",L4(8)*(D)**8*RR(8).gamma())\n",
    "# Note that since the value is not zero it is more complicated to calculate the derivative (even if we know it is zero...)\n",
    "# We just do this to double check... \n",
    "d1 = L4.derivative(8)*(D)**8*RR(8).gamma()\n",
    "d2 = L4(8)*( log(D)*D**8*RR(8).gamma()+D**8*RR(8).gamma()*psi(RR(8)))\n",
    "print(\"L'^*_f4=\",d1+d2)\n"
   ]
  },
  {
   "cell_type": "code",
   "execution_count": null,
   "id": "d8cd5bc4",
   "metadata": {
    "scrolled": true
   },
   "outputs": [],
   "source": [
    "f4_alt=f16[-1]-128*f16[-2]\n",
    "l_series_derivative_formula(f4_alt,0,k=16,N=2,bprec=53,is_holomorphic_cuspform=True)"
   ]
  },
  {
   "cell_type": "markdown",
   "id": "697a3cf5",
   "metadata": {},
   "source": [
    "We then check the computational error by comparing calculations with different precisions. "
   ]
  },
  {
   "cell_type": "code",
   "execution_count": null,
   "id": "b5b26720",
   "metadata": {},
   "outputs": [],
   "source": [
    "CF=ComplexField(100)"
   ]
  },
  {
   "cell_type": "code",
   "execution_count": null,
   "id": "675cde5d",
   "metadata": {},
   "outputs": [],
   "source": [
    "CF(0.06298394789748197609,2.98342427489482e-17) - CF(128)*CF(0.00008045589767063483,5.88570627621543e-20)"
   ]
  },
  {
   "cell_type": "code",
   "execution_count": null,
   "id": "81509a8b",
   "metadata": {},
   "outputs": [],
   "source": [
    "l_series_derivative_formula(f16[1],0,k=16,N=2,bprec=103)"
   ]
  },
  {
   "cell_type": "code",
   "execution_count": null,
   "id": "92608735",
   "metadata": {},
   "outputs": [],
   "source": [
    "vals = {}\n",
    "for bprec in [53,103,203]:\n",
    "    print(\"prec=\",bprec)\n",
    "    vals[bprec] = {}\n",
    "    for i in range(-2,3):\n",
    "        vals[bprec][i] = {}\n",
    "        if i == 0:\n",
    "            continue\n",
    "        for m in range(0,3):\n",
    "            z = l_series_derivative_formula(f16[i],m,k=16,N=2,bprec=bprec,is_holomorphic_cuspform= i in [-2,-1])\n",
    "            vals[bprec][i][m] = z\n",
    "            print(f\"L_(f_16,{i:>2})^({m}),8)={float(z.real):<35.32f} + {z.imag}i\")\n"
   ]
  },
  {
   "cell_type": "code",
   "execution_count": null,
   "id": "5d733efb",
   "metadata": {},
   "outputs": [],
   "source": [
    "for i in range(-2,3):\n",
    "    if i == 0:\n",
    "        continue\n",
    "    for m in range(3):\n",
    "        f1 = vals[53][i][m]\n",
    "        f2 = vals[103][i][m]\n",
    "        f3 = vals[203][i][m]\n",
    "        print(f\"diff2 = L_(f_16,{i:>2})^({m}),8) ={float(abs(f2-f3)):4.2e}\")\n"
   ]
  },
  {
   "cell_type": "code",
   "execution_count": null,
   "id": "009c6eb9",
   "metadata": {},
   "outputs": [],
   "source": [
    "%timeit l_series_derivative_formula(f16[1],0,k=16,N=2,bprec=103)"
   ]
  },
  {
   "cell_type": "code",
   "execution_count": null,
   "id": "1a197de2",
   "metadata": {},
   "outputs": [],
   "source": [
    "%timeit l_series_derivative_formula(f16[1],1,k=16,N=2,bprec=103)"
   ]
  },
  {
   "cell_type": "code",
   "execution_count": null,
   "id": "900483cc",
   "metadata": {},
   "outputs": [],
   "source": [
    "%timeit l_series_derivative_formula(f16[1],2,k=16,N=2,bprec=103)"
   ]
  },
  {
   "cell_type": "code",
   "execution_count": null,
   "id": "65eceeb6",
   "metadata": {},
   "outputs": [],
   "source": [
    "%timeit l_series_derivative_formula(f16[2],0,k=16,N=2,bprec=103)"
   ]
  },
  {
   "cell_type": "code",
   "execution_count": null,
   "id": "82314e8a",
   "metadata": {},
   "outputs": [],
   "source": [
    "%timeit l_series_derivative_formula(f16[2],1,k=16,N=2,bprec=103)"
   ]
  },
  {
   "cell_type": "code",
   "execution_count": null,
   "id": "e2b48236",
   "metadata": {},
   "outputs": [],
   "source": [
    "%timeit l_series_derivative_formula(f16[2],2,k=16,N=2,bprec=103)"
   ]
  },
  {
   "cell_type": "markdown",
   "id": "42fafeaf",
   "metadata": {},
   "source": [
    "## Extra checks\n",
    "\n",
    "To verify the accuracy of the integral formula we also compare with the exponential sum evaluated using the analogue of the method by Buhler, Gross and Zagier as described in the paper."
   ]
  },
  {
   "cell_type": "code",
   "execution_count": null,
   "id": "86dfaa7a",
   "metadata": {},
   "outputs": [],
   "source": [
    "@cached_function()\n",
    "def ksi_factors(j,l,n,prec=53):\n",
    "    RF = RealField(prec)\n",
    "    if j == 0:\n",
    "        return RF(1)\n",
    "    if l == n-j:\n",
    "        return RF(l+1).gamma()/RF(n+1).gamma()\n",
    "    if l > n - j:\n",
    "        return 0\n",
    "    if l == 0:\n",
    "        return sum([RF(1)/RF(1+k)*ksi_factors(j-1,0,k) for k in range(n)])\n",
    "    # if l > 0\n",
    "    return sum([RF(1)/RF(k+l+j)*ksi_factors(j-1,l,k+l+j-1) for k in range(n-l-j+1)])\n",
    "var('x')\n",
    "pgamma = gamma(1+x)\n",
    "gamma_taylor_coeffs = pgamma.taylor(x,0,10).coefficients(sparse=False)\n",
    "def polP(r,t):\n",
    "    \"\"\"\n",
    "    Evaluate the polynomial used in E_1^r\n",
    "    \"\"\"\n",
    "    summa = 0\n",
    "    CF = t.parent()\n",
    "    for i in range(r+1):\n",
    "        c = gamma_taylor_coeffs[r-i]\n",
    "        summa += CF(c)*t**i/gamma(CF(i+1))\n",
    "    return summa\n",
    "    \n",
    "def E1r(r,z,nmax=10000):\n",
    "    \"\"\"\n",
    "    Evaluate E_1^{r}(z) \n",
    "    Note: we need to increase working precision to ensure that we can add all terms. \n",
    "    \"\"\"\n",
    "    summa = 0\n",
    "    orig_prec = z.parent().prec()\n",
    "    # Now see what we need in term of working precision... \n",
    "    # largest term ~ e^z and smallest are like z^(-r-1) e^-z\n",
    "    prec = z.parent().prec()+3+2*abs(z)/RR(2).log() + 2*(r+1) * abs(z).log()\n",
    "    prec = ceil(prec)\n",
    "    eps = RR(2)**(-prec)\n",
    "    CF = ComplexField(prec=prec)\n",
    "    RF = RealField(prec=prec)\n",
    "    z = RF(z)\n",
    "    for n in range(1,nmax):\n",
    "        term = (-1)**(n-r-1)/RF(n)**(r+1)/gamma(RF(n+1))*z**n\n",
    "        summa += term\n",
    "        if abs(term) < eps:\n",
    "            break\n",
    "    pol = polP(r+1,-z.log())\n",
    "    return ComplexField(orig_prec)(pol+summa)\n",
    "        \n",
    "def Ej_minus_n(j,n,z,verbose=0):\n",
    "    \"\"\"\n",
    "    Evaluate E^{(j)}_{-n}(z)\n",
    "    \n",
    "    \"\"\"    \n",
    "    s1 = 0\n",
    "    RF = z.parent()\n",
    "    for l in range(n-j+1):\n",
    "        s1 += z**l/RF(l+1).gamma()*ksi_factors(j,l,n,prec=RF.prec())\n",
    "    s1 = s1*(-z).exp()\n",
    "    s2 = 0\n",
    "    for m in range(1,j+1):\n",
    "        term = ksi_factors(m-1,0,n,prec=RF.prec())*E1r(j-m,z) \n",
    "        if verbose>0:\n",
    "            print(m,ksi_factors(m-1,0,n),'* E1r(',j-m,z,')(',E1r(j-m,z),')=',term)\n",
    "        s2 += term\n",
    "    f = RF(n+1).gamma()/z**(n+1)\n",
    "    return f*(s1+s2)\n",
    "    \n",
    "def higher_derivative_using_sum(f,m,k=None,N=None,prec=200,bprec=53,verbose=0):\n",
    "    RF = RealField(bprec)\n",
    "    if k is None:\n",
    "        k = f.weight()\n",
    "    if N is None:\n",
    "        N = f.level()\n",
    "    if bprec == 53:\n",
    "        mpctx = mpmath.fp\n",
    "    else:\n",
    "        mpctx = mpmath.mp\n",
    "    if isinstance(f,Newform):\n",
    "        factor = factorial(m)*(CF(0,1)**(k+2*m)+1)\n",
    "    else:\n",
    "        factor = factorial(m)\n",
    "    if prec is None:\n",
    "        D,prec = get_parameters(f,k,N,prec,bprec,mpctx, is_holomorphic_cuspform=False)\n",
    "    coeffs = complex_coefficients(f,prec)\n",
    "    sqrtN = RF(N).sqrt()\n",
    "    two_pi_over_sqrtN = RF.pi()*RF(2)/sqrtN\n",
    "    summa = 0\n",
    "    s = k // 2 - 1\n",
    "    coeff_indexes = list(coeffs.keys())\n",
    "    coeff_indexes.sort(reverse=True)\n",
    "    for n in coeff_indexes:\n",
    "        c = coeffs[n]\n",
    "        if c == 0 or n > prec:\n",
    "            continue\n",
    "        term = RF(c)*Ej_minus_n(m,s,two_pi_over_sqrtN*n,verbose=verbose-1)\n",
    "        summa += term\n",
    "        if verbose > 0:\n",
    "            print(n,two_pi_over_sqrtN*n,Ej_minus_n(m,s,two_pi_over_sqrtN*n))\n",
    "    return summa*factor\n"
   ]
  },
  {
   "cell_type": "code",
   "execution_count": null,
   "id": "1972f564",
   "metadata": {},
   "outputs": [],
   "source": [
    "for i in [1,2]:\n",
    "    for m in [0,1,2]:\n",
    "        f1 = higher_derivative_using_sum(f16[i],m=m,k=16,N=2,prec=100,bprec=103)\n",
    "        f2 = vals[103][i][m]\n",
    "        print(f\"diff1 = L_(f_16,{i:>2})^({m}),8) ={float(abs(f1-f2)):4.2e}\")"
   ]
  },
  {
   "cell_type": "code",
   "execution_count": null,
   "id": "e7a94b8e",
   "metadata": {},
   "outputs": [],
   "source": [
    "for i in [1,2]:\n",
    "    for m in [0,1,2]:\n",
    "        f = higher_derivative_using_sum(f16[i],m=m,k=16,N=2,prec=100,bprec=103)\n",
    "        print(f\"L_(f_16,{i:>2})^({m}),8)={float(f.real()):<10.20f} + {f.imag()}i\")"
   ]
  },
  {
   "cell_type": "code",
   "execution_count": null,
   "id": "b98ea122",
   "metadata": {},
   "outputs": [],
   "source": [
    "%timeit higher_derivative_using_sum(f16[1],m=0,k=16,N=2,prec=100,bprec=103)"
   ]
  },
  {
   "cell_type": "code",
   "execution_count": null,
   "id": "08aabc25",
   "metadata": {},
   "outputs": [],
   "source": [
    "%timeit higher_derivative_using_sum(f16[1],m=1,k=16,N=2,prec=100,bprec=103)"
   ]
  },
  {
   "cell_type": "code",
   "execution_count": null,
   "id": "937640f5",
   "metadata": {},
   "outputs": [],
   "source": [
    "%timeit higher_derivative_using_sum(f16[1],m=2,k=16,N=2,prec=100,bprec=103)"
   ]
  },
  {
   "cell_type": "code",
   "execution_count": null,
   "id": "7a9cc743",
   "metadata": {},
   "outputs": [],
   "source": [
    "%timeit higher_derivative_using_sum(f16[2],m=0,k=16,N=2,prec=100,bprec=103)"
   ]
  },
  {
   "cell_type": "code",
   "execution_count": null,
   "id": "677ad3aa",
   "metadata": {},
   "outputs": [],
   "source": [
    "%timeit higher_derivative_using_sum(f16[2],m=1,k=16,N=2,prec=100,bprec=103)"
   ]
  },
  {
   "cell_type": "code",
   "execution_count": null,
   "id": "cfef1351",
   "metadata": {},
   "outputs": [],
   "source": [
    "%timeit higher_derivative_using_sum(f16[2],m=2,k=16,N=2,prec=100,bprec=103)"
   ]
  },
  {
   "cell_type": "code",
   "execution_count": null,
   "id": "cd97fa66",
   "metadata": {},
   "outputs": [],
   "source": [
    "%prun higher_derivative_using_sum(f16[2],m=2,k=16,N=2,prec=100,bprec=103)"
   ]
  },
  {
   "cell_type": "code",
   "execution_count": null,
   "id": "cc68bad8",
   "metadata": {},
   "outputs": [],
   "source": [
    "F = f16[2]*(1400258734875*I)/(29630464*RR.pi()**15)+f16[1]*(-374953/3776)+f16[-1]/256+f16[-2]"
   ]
  },
  {
   "cell_type": "code",
   "execution_count": null,
   "id": "af9ebead",
   "metadata": {},
   "outputs": [],
   "source": [
    "m=1\n",
    "CF=ComplexField(103)\n",
    "vals[103][-2][m]*CF(0,1400258734875)/CF(29630464)/CF.pi()**15+vals[103][-1][m]*CF(-374953)/CF(3776)+vals[103][1][m]/CF(256)+vals[103][2][m]"
   ]
  },
  {
   "cell_type": "code",
   "execution_count": null,
   "id": "cf33f8d3",
   "metadata": {},
   "outputs": [],
   "source": [
    "m=2\n",
    "vals[103][1][m]*CF(16)/CF(75) + vals[103][2][m]*CF(4096)/CF(75)"
   ]
  },
  {
   "cell_type": "code",
   "execution_count": null,
   "id": "58a6eb7a",
   "metadata": {},
   "outputs": [],
   "source": [
    "vals[103]"
   ]
  },
  {
   "cell_type": "code",
   "execution_count": null,
   "id": "4bd3a9e9",
   "metadata": {},
   "outputs": [],
   "source": []
  }
 ],
 "metadata": {
  "kernelspec": {
   "display_name": "SageMath 9.6",
   "language": "sage",
   "name": "sagemath"
  },
  "language_info": {
   "codemirror_mode": {
    "name": "ipython",
    "version": 3
   },
   "file_extension": ".py",
   "mimetype": "text/x-python",
   "name": "python",
   "nbconvert_exporter": "python",
   "pygments_lexer": "ipython3",
   "version": "3.10.6"
  }
 },
 "nbformat": 4,
 "nbformat_minor": 5
}
